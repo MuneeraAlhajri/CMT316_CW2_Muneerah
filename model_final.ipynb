{
  "cells": [
    {
      "cell_type": "markdown",
      "metadata": {
        "id": "view-in-github",
        "colab_type": "text"
      },
      "source": [
        "<a href=\"https://colab.research.google.com/github/MuneeraAlhajri/CMT316_CW2_Muneerah/blob/main/model_final.ipynb\" target=\"_parent\"><img src=\"https://colab.research.google.com/assets/colab-badge.svg\" alt=\"Open In Colab\"/></a>"
      ]
    },
    {
      "cell_type": "code",
      "execution_count": 1,
      "metadata": {
        "colab": {
          "base_uri": "https://localhost:8080/"
        },
        "id": "b15fJarPW5-3",
        "outputId": "c0960e80-f600-4c06-9d76-211fa2d9dea7"
      },
      "outputs": [
        {
          "output_type": "stream",
          "name": "stdout",
          "text": [
            "Mounted at /content/drive\n"
          ]
        }
      ],
      "source": [
        "import os\n",
        "import pandas as pd\n",
        "import numpy as np\n",
        "from numpy import expand_dims\n",
        "import matplotlib.pyplot as plt\n",
        "import matplotlib.image as mpimg\n",
        "from skimage.transform import resize\n",
        "from IPython.display import SVG\n",
        "from tensorflow import keras\n",
        "from keras import applications\n",
        "from keras import optimizers\n",
        "from keras.models import Model, Sequential\n",
        "from keras.preprocessing.image import ImageDataGenerator, load_img, img_to_array\n",
        "from keras.layers import Dense, Flatten, Dropout, BatchNormalization, GlobalAveragePooling2D\n",
        "from keras.applications.inception_v3 import InceptionV3, preprocess_input\n",
        "from keras.utils.np_utils import to_categorical\n",
        "from keras import layers, models\n",
        "from keras.callbacks import ModelCheckpoint, EarlyStopping, CSVLogger, ReduceLROnPlateau\n",
        "from google.colab import drive\n",
        "\n",
        "drive.mount('/content/drive')\n",
        "\n",
        "train_path = \"/content/drive/MyDrive/Data/ML Coursework 2/train/\"\n",
        "test_path = \"/content/drive/MyDrive/Data/ML Coursework 2/test/\"\n",
        "img_width, img_height = 224, 224\n",
        "channels = 3\n",
        "batch_size = 64\n",
        "num_images = 100\n",
        "image_arr_size = img_width * img_height * channels\n"
      ]
    },
    {
      "cell_type": "code",
      "execution_count": 2,
      "metadata": {
        "colab": {
          "base_uri": "https://localhost:8080/"
        },
        "id": "pnl54Fbe61sV",
        "outputId": "3d6cea64-2d52-416b-a7a1-63ca6e303ad9"
      },
      "outputs": [
        {
          "output_type": "stream",
          "name": "stdout",
          "text": [
            "Found 9600 images belonging to 120 classes.\n",
            "Found 2400 images belonging to 120 classes.\n"
          ]
        }
      ],
      "source": [
        "\n",
        "train_datagen = ImageDataGenerator(\n",
        "    rescale= 1./255,\n",
        "    shear_range= 0.2,\n",
        "    zoom_range= 0.2,\n",
        "    horizontal_flip= True,\n",
        "    rotation_range= 20,\n",
        "    width_shift_range= 0.2,\n",
        "    height_shift_range= 0.2,\n",
        "    validation_split=0.2,\n",
        "\n",
        ")\n",
        "\n",
        "valid_datagen = ImageDataGenerator(\n",
        "    rescale= 1./255,\n",
        "    validation_split=0.2,\n",
        ")\n",
        "\n",
        "\n",
        "train_generator = train_datagen.flow_from_directory(\n",
        "    train_path,\n",
        "    target_size= (img_width, img_height),\n",
        "    color_mode= 'rgb',\n",
        "    batch_size= batch_size,\n",
        "    class_mode= 'categorical',\n",
        "    subset='training',\n",
        "    shuffle= True,\n",
        "    seed= 1337\n",
        ")\n",
        "\n",
        "valid_generator = valid_datagen.flow_from_directory(\n",
        "    train_path,\n",
        "    target_size= (img_width, img_height),\n",
        "    color_mode= 'rgb',\n",
        "    batch_size= batch_size,\n",
        "    class_mode= 'categorical',\n",
        "    subset='validation',\n",
        "    shuffle= True,\n",
        "    seed= 1337\n",
        ")"
      ]
    },
    {
      "cell_type": "code",
      "execution_count": 3,
      "metadata": {
        "id": "w0vccD6-7Yqx"
      },
      "outputs": [],
      "source": [
        "num_classes = len(train_generator.class_indices)\n",
        "train_labels = train_generator.classes\n",
        "train_labels = to_categorical(train_labels, num_classes=num_classes)\n",
        "valid_labels = valid_generator.classes\n",
        "valid_labels = to_categorical(valid_labels, num_classes=num_classes)\n",
        "nb_train_samples = len(train_generator.filenames)\n",
        "nb_valid_samples = len(valid_generator.filenames)"
      ]
    },
    {
      "cell_type": "code",
      "execution_count": 4,
      "metadata": {
        "colab": {
          "base_uri": "https://localhost:8080/"
        },
        "id": "Gh9jT1BR7ccq",
        "outputId": "d2020ef6-0d24-47e8-d165-38b78c4ed146"
      },
      "outputs": [
        {
          "output_type": "stream",
          "name": "stdout",
          "text": [
            "Found 8580 images belonging to 120 classes.\n"
          ]
        }
      ],
      "source": [
        "test_datagen = ImageDataGenerator(rescale=1/255.0)\n",
        "test_generator = test_datagen.flow_from_directory(\n",
        "                                    test_path,\n",
        "                                    target_size=(img_width, img_height),\n",
        "                                    color_mode= 'rgb',\n",
        "                                    batch_size=batch_size,\n",
        "                                    class_mode= 'categorical',\n",
        "                                    shuffle=False,)\n",
        "test_generator.reset()"
      ]
    },
    {
      "cell_type": "markdown",
      "metadata": {
        "id": "868AJjUL7DV2"
      },
      "source": [
        "# Model\n",
        "\n",
        "**The following code are building model, you should optimized them.**\n",
        "\n"
      ]
    },
    {
      "cell_type": "code",
      "execution_count": 5,
      "metadata": {
        "colab": {
          "base_uri": "https://localhost:8080/"
        },
        "id": "nISkvTSL7u-0",
        "outputId": "807712cf-77a8-4a07-b807-13dcb214cefb"
      },
      "outputs": [
        {
          "output_type": "stream",
          "name": "stdout",
          "text": [
            "Downloading data from https://storage.googleapis.com/tensorflow/keras-applications/inception_v3/inception_v3_weights_tf_dim_ordering_tf_kernels_notop.h5\n",
            "87916544/87910968 [==============================] - 1s 0us/step\n",
            "87924736/87910968 [==============================] - 1s 0us/step\n",
            "Model: \"sequential\"\n",
            "_________________________________________________________________\n",
            " Layer (type)                Output Shape              Param #   \n",
            "=================================================================\n",
            " inception_v3 (Functional)   (None, 5, 5, 2048)        21802784  \n",
            "                                                                 \n",
            " dropout (Dropout)           (None, 5, 5, 2048)        0         \n",
            "                                                                 \n",
            " flatten (Flatten)           (None, 51200)             0         \n",
            "                                                                 \n",
            " batch_normalization_94 (Bat  (None, 51200)            204800    \n",
            " chNormalization)                                                \n",
            "                                                                 \n",
            " dense (Dense)               (None, 1000)              51201000  \n",
            "                                                                 \n",
            " batch_normalization_95 (Bat  (None, 1000)             4000      \n",
            " chNormalization)                                                \n",
            "                                                                 \n",
            " activation_94 (Activation)  (None, 1000)              0         \n",
            "                                                                 \n",
            " dense_1 (Dense)             (None, 120)               120120    \n",
            "                                                                 \n",
            "=================================================================\n",
            "Total params: 73,332,704\n",
            "Trainable params: 51,425,520\n",
            "Non-trainable params: 21,907,184\n",
            "_________________________________________________________________\n",
            "Epoch 1/10\n",
            "50/50 [==============================] - 1198s 24s/step - loss: 2.2452 - accuracy: 0.4925 - val_loss: 1.3047 - val_accuracy: 0.7225\n",
            "Epoch 2/10\n",
            "50/50 [==============================] - 787s 16s/step - loss: 1.1310 - accuracy: 0.6772 - val_loss: 0.9627 - val_accuracy: 0.7513\n",
            "Epoch 3/10\n",
            "50/50 [==============================] - 683s 14s/step - loss: 1.0376 - accuracy: 0.7059 - val_loss: 0.8534 - val_accuracy: 0.7696\n",
            "Epoch 4/10\n",
            "50/50 [==============================] - 660s 13s/step - loss: 0.9915 - accuracy: 0.7188 - val_loss: 0.8174 - val_accuracy: 0.7708\n",
            "Epoch 5/10\n",
            "50/50 [==============================] - 655s 13s/step - loss: 0.9670 - accuracy: 0.7184 - val_loss: 0.8508 - val_accuracy: 0.7742\n",
            "Epoch 6/10\n",
            "50/50 [==============================] - 659s 13s/step - loss: 0.8985 - accuracy: 0.7459 - val_loss: 0.8655 - val_accuracy: 0.7596\n",
            "Epoch 7/10\n",
            "50/50 [==============================] - 656s 13s/step - loss: 0.8227 - accuracy: 0.7550 - val_loss: 0.8431 - val_accuracy: 0.7725\n",
            "Epoch 8/10\n",
            "50/50 [==============================] - 651s 13s/step - loss: 0.8138 - accuracy: 0.7575 - val_loss: 0.8268 - val_accuracy: 0.7713\n",
            "Epoch 9/10\n",
            "50/50 [==============================] - 653s 13s/step - loss: 0.7604 - accuracy: 0.7784 - val_loss: 0.8130 - val_accuracy: 0.7738\n",
            "Epoch 10/10\n",
            "50/50 [==============================] - 647s 13s/step - loss: 0.7668 - accuracy: 0.7788 - val_loss: 0.8115 - val_accuracy: 0.7746\n"
          ]
        }
      ],
      "source": [
        "InceptionV3 = InceptionV3(include_top= False, input_shape= (img_width, img_height, channels), weights= 'imagenet')\n",
        "# InceptionV3.summary()\n",
        "\n",
        "model = Sequential()\n",
        "\n",
        "for layer in InceptionV3.layers:\n",
        "    layer.trainable = False\n",
        "\n",
        "model.add(InceptionV3)\n",
        "model.add(layers.Dropout(0.3))\n",
        "\n",
        "model.add(layers.Flatten())\n",
        "model.add(layers.BatchNormalization())\n",
        "model.add(layers.Dense(1000,kernel_initializer='he_uniform'))\n",
        "model.add(layers.BatchNormalization())\n",
        "model.add(layers.Activation('relu'))\n",
        "model.add(layers.Dense(120,activation='softmax'))\n",
        "model.summary()\n",
        "\n",
        "model.compile(optimizer='adam',\n",
        "              loss='categorical_crossentropy',\n",
        "              metrics=['accuracy'])\n",
        "history=model.fit(train_generator, steps_per_epoch=50, epochs=10, verbose= 1, validation_data= valid_generator)"
      ]
    },
    {
      "cell_type": "code",
      "execution_count": 6,
      "metadata": {
        "colab": {
          "base_uri": "https://localhost:8080/"
        },
        "id": "RaIfpV5vZ9s_",
        "outputId": "16bafa5b-5048-4334-c6fc-1e52126dbb66"
      },
      "outputs": [
        {
          "output_type": "stream",
          "name": "stdout",
          "text": [
            "135/135 - 1699s - 1699s/epoch - 13s/step\n"
          ]
        }
      ],
      "source": [
        "pred = model.predict(test_generator, verbose=2)\n",
        "pred = np.argmax(pred,axis=1)"
      ]
    },
    {
      "cell_type": "code",
      "execution_count": 7,
      "metadata": {
        "colab": {
          "base_uri": "https://localhost:8080/"
        },
        "id": "S4vFN6-muz4c",
        "outputId": "4ab91073-be96-4b6b-daa6-bf49285c4774"
      },
      "outputs": [
        {
          "output_type": "stream",
          "name": "stdout",
          "text": [
            "Test accuracy: 78.2984%\n"
          ]
        }
      ],
      "source": [
        "test_labels = test_generator.classes\n",
        "test_labels = to_categorical(test_labels, num_classes=num_classes)\n",
        "test_accuracy = 100*np.sum(pred==np.argmax(test_labels, axis=1))/len(pred)\n",
        "print('Test accuracy: %.4f%%' % test_accuracy)"
      ]
    },
    {
      "cell_type": "code",
      "source": [
        "print(pred)\n",
        "print(len(pred))\n",
        "test_targets = np.argmax(test_labels, axis=1)\n",
        "a = 0\n",
        "for i in range(8580):\n",
        "  if(pred[i]==test_targets[i]):\n",
        "    a+=1\n",
        "print(a)"
      ],
      "metadata": {
        "colab": {
          "base_uri": "https://localhost:8080/"
        },
        "id": "Gqp7tukJui7e",
        "outputId": "0661d2be-ce0d-4bdd-9153-9ec81f8a09d2"
      },
      "execution_count": 8,
      "outputs": [
        {
          "output_type": "stream",
          "name": "stdout",
          "text": [
            "[ 15   0   0 ...   2 119 119]\n",
            "8580\n",
            "6718\n"
          ]
        }
      ]
    },
    {
      "cell_type": "code",
      "source": [
        "print(test_targets)"
      ],
      "metadata": {
        "colab": {
          "base_uri": "https://localhost:8080/"
        },
        "id": "k2o8FXvPun_S",
        "outputId": "3192f0e4-f17b-4e0c-f002-fc9208cb747d"
      },
      "execution_count": 11,
      "outputs": [
        {
          "output_type": "stream",
          "name": "stdout",
          "text": [
            "[  0   0   0 ... 119 119 119]\n"
          ]
        }
      ]
    },
    {
      "cell_type": "code",
      "execution_count": 10,
      "metadata": {
        "colab": {
          "base_uri": "https://localhost:8080/"
        },
        "id": "zQpblrnovZq8",
        "outputId": "5c0b88ab-0466-4b8c-9f06-5a244535be9b"
      },
      "outputs": [
        {
          "output_type": "stream",
          "name": "stdout",
          "text": [
            "135/135 - 938s - loss: 0.7713 - accuracy: 0.7830 - 938s/epoch - 7s/step\n"
          ]
        }
      ],
      "source": [
        "score = model.evaluate(test_generator, verbose=2)"
      ]
    },
    {
      "cell_type": "code",
      "source": [
        "from sklearn.metrics import confusion_matrix\n",
        "\n",
        "cm=confusion_matrix(test_targets, pred)\n",
        "print(cm)"
      ],
      "metadata": {
        "colab": {
          "base_uri": "https://localhost:8080/"
        },
        "id": "oSW6oZDLnC35",
        "outputId": "dc52222b-7ee9-4e8c-8417-58bad76af1e4"
      },
      "execution_count": 12,
      "outputs": [
        {
          "output_type": "stream",
          "name": "stdout",
          "text": [
            "[[ 38   0   0 ...   0   0   0]\n",
            " [  0 127   0 ...   0   0   0]\n",
            " [  0   0  39 ...   0  43   2]\n",
            " ...\n",
            " [  0   0   0 ...  68   0   0]\n",
            " [  0   0   7 ...   0  38   1]\n",
            " [  0   0  18 ...   0  28  31]]\n"
          ]
        }
      ]
    },
    {
      "cell_type": "code",
      "source": [
        "from sklearn.metrics import classification_report\n",
        "print(classification_report(test_targets, pred))"
      ],
      "metadata": {
        "colab": {
          "base_uri": "https://localhost:8080/"
        },
        "id": "8g4GhcfjwJKL",
        "outputId": "37f3d465-cfe2-412c-a4f1-a7e950d3a0a9"
      },
      "execution_count": 14,
      "outputs": [
        {
          "output_type": "stream",
          "name": "stdout",
          "text": [
            "              precision    recall  f1-score   support\n",
            "\n",
            "           0       0.54      0.73      0.62        52\n",
            "           1       0.94      0.91      0.93       139\n",
            "           2       0.54      0.42      0.48        92\n",
            "           3       0.79      0.82      0.80        50\n",
            "           4       0.84      0.84      0.84       109\n",
            "           5       0.68      0.94      0.79       100\n",
            "           6       0.93      0.93      0.93       110\n",
            "           7       0.75      0.88      0.81        95\n",
            "           8       0.90      0.81      0.86       113\n",
            "           9       0.91      0.92      0.92       118\n",
            "          10       0.93      0.91      0.92       119\n",
            "          11       0.95      0.97      0.96        96\n",
            "          12       0.85      0.81      0.83        75\n",
            "          13       0.98      0.95      0.96        58\n",
            "          14       0.88      0.81      0.84        53\n",
            "          15       0.76      0.79      0.78        81\n",
            "          16       0.71      0.73      0.72        55\n",
            "          17       0.56      0.69      0.62        51\n",
            "          18       0.45      0.35      0.39        55\n",
            "          19       0.71      0.69      0.70        59\n",
            "          20       0.85      0.96      0.91        55\n",
            "          21       0.75      0.73      0.74        56\n",
            "          22       0.89      0.96      0.92        50\n",
            "          23       0.73      0.75      0.74        95\n",
            "          24       0.96      0.99      0.97        69\n",
            "          25       0.92      0.83      0.87        87\n",
            "          26       0.92      0.76      0.83        71\n",
            "          27       0.77      0.80      0.78        59\n",
            "          28       0.53      0.36      0.43        53\n",
            "          29       0.60      0.79      0.68        57\n",
            "          30       0.73      0.67      0.70        48\n",
            "          31       0.86      0.84      0.85        51\n",
            "          32       0.88      0.86      0.87        85\n",
            "          33       0.75      0.73      0.74       118\n",
            "          34       0.76      0.73      0.75        82\n",
            "          35       0.73      0.67      0.70        87\n",
            "          36       0.85      0.85      0.85        88\n",
            "          37       0.97      0.77      0.86        96\n",
            "          38       0.61      0.90      0.73        51\n",
            "          39       0.92      0.76      0.83       100\n",
            "          40       0.86      0.78      0.82       132\n",
            "          41       0.89      0.83      0.86        60\n",
            "          42       0.42      0.64      0.51        55\n",
            "          43       0.94      0.80      0.86       152\n",
            "          44       0.56      0.45      0.50        64\n",
            "          45       0.97      0.94      0.96        82\n",
            "          46       0.85      0.81      0.83        72\n",
            "          47       0.89      0.84      0.86        79\n",
            "          48       0.71      0.77      0.74        69\n",
            "          49       0.80      0.71      0.75        72\n",
            "          50       0.78      0.74      0.76        85\n",
            "          51       0.57      0.67      0.62        64\n",
            "          52       0.80      0.82      0.81        57\n",
            "          53       0.85      0.59      0.70        97\n",
            "          54       0.74      0.88      0.80        49\n",
            "          55       0.81      0.97      0.88       102\n",
            "          56       0.79      0.65      0.71       102\n",
            "          57       0.78      0.80      0.79        97\n",
            "          58       0.76      0.68      0.72        96\n",
            "          59       0.93      0.93      0.93        80\n",
            "          60       0.99      0.89      0.94        82\n",
            "          61       0.73      0.76      0.75        54\n",
            "          62       0.74      0.75      0.75        57\n",
            "          63       0.67      0.58      0.62        55\n",
            "          64       0.77      0.76      0.77        58\n",
            "          65       0.80      0.63      0.71       114\n",
            "          66       0.78      0.79      0.79       106\n",
            "          67       0.71      0.71      0.71        83\n",
            "          68       0.65      0.64      0.65        56\n",
            "          69       0.90      0.78      0.84        69\n",
            "          70       0.63      0.72      0.67        86\n",
            "          71       0.87      0.65      0.75        52\n",
            "          72       0.85      0.86      0.85        51\n",
            "          73       0.78      0.86      0.82        50\n",
            "          74       0.61      0.85      0.71        71\n",
            "          75       0.76      0.70      0.73        67\n",
            "          76       0.91      0.89      0.90        88\n",
            "          77       0.74      0.81      0.77        52\n",
            "          78       0.49      0.87      0.63        54\n",
            "          79       0.79      0.85      0.82        61\n",
            "          80       0.82      0.91      0.86        55\n",
            "          81       0.94      0.83      0.88        53\n",
            "          82       0.82      0.77      0.79        52\n",
            "          83       0.77      0.88      0.82        50\n",
            "          84       0.84      0.92      0.88        59\n",
            "          85       0.77      0.82      0.80        50\n",
            "          86       0.82      0.69      0.75        59\n",
            "          87       0.97      0.89      0.92        96\n",
            "          88       0.92      0.88      0.90        51\n",
            "          89       0.74      0.92      0.82        50\n",
            "          90       0.77      0.80      0.78        50\n",
            "          91       0.87      0.89      0.88        54\n",
            "          92       0.79      0.82      0.80        50\n",
            "          93       0.96      0.50      0.66        50\n",
            "          94       0.64      0.85      0.73        52\n",
            "          95       0.58      0.70      0.63        53\n",
            "          96       0.94      0.91      0.92        54\n",
            "          97       0.87      0.87      0.87        69\n",
            "          98       0.80      0.72      0.76        72\n",
            "          99       0.80      0.75      0.77        57\n",
            "         100       0.50      0.74      0.60        53\n",
            "         101       0.63      0.48      0.55        50\n",
            "         102       0.79      0.84      0.82        50\n",
            "         103       0.78      0.94      0.85        52\n",
            "         104       0.55      0.87      0.67        52\n",
            "         105       0.78      0.76      0.77        50\n",
            "         106       0.86      0.68      0.76        84\n",
            "         107       0.81      0.69      0.75        68\n",
            "         108       0.89      0.94      0.91       118\n",
            "         109       0.70      0.53      0.60        72\n",
            "         110       0.64      0.45      0.53        51\n",
            "         111       0.78      0.81      0.79       102\n",
            "         112       0.75      0.86      0.80        51\n",
            "         113       0.91      0.73      0.81        56\n",
            "         114       0.83      0.83      0.83        52\n",
            "         115       0.86      0.85      0.85        59\n",
            "         116       0.81      0.62      0.71        56\n",
            "         117       0.94      0.97      0.96        70\n",
            "         118       0.31      0.76      0.44        50\n",
            "         119       0.78      0.40      0.53        78\n",
            "\n",
            "    accuracy                           0.78      8580\n",
            "   macro avg       0.78      0.78      0.77      8580\n",
            "weighted avg       0.80      0.78      0.78      8580\n",
            "\n"
          ]
        }
      ]
    }
  ],
  "metadata": {
    "colab": {
      "collapsed_sections": [],
      "name": "model_new.ipynb",
      "provenance": [],
      "include_colab_link": true
    },
    "kernelspec": {
      "display_name": "Python 3",
      "name": "python3"
    },
    "language_info": {
      "name": "python"
    }
  },
  "nbformat": 4,
  "nbformat_minor": 0
}